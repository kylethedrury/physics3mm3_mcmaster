{
 "cells": [
  {
   "cell_type": "markdown",
   "metadata": {
    "pycharm": {
     "name": "#%% md\n"
    }
   },
   "source": [
    "# The Finite Double Square Well\n",
    "### Erik S. S&oslash;rensen, Physics & Astronomy, McMaster University,  October 26, 2019\n",
    "#### Last Edit: Pat Clancy - November 10, 2023"
   ]
  },
  {
   "cell_type": "markdown",
   "metadata": {
    "pycharm": {
     "name": "#%% md\n"
    }
   },
   "source": [
    "In this exercise we will solve the Schr&ouml;dinger equation using the method described in problem 2.61 in Griffiths (3rd ed). As usual, we will use a discrete grid with spacing $h$. The second derivative can then be approximated as $(-2\\psi_j+\\psi_{j+1}+\\psi_{j-1})/h^2$. If we discretize $\\psi$ on the interval $-W,W$ in $N$ points then it is easy to see that Schr&ouml;dinger's equation becomes an eigenvalue equation for an $N\\times N$ matrix as explained in problem 2.61. We shall then be looking at problem 2.47 in Griffiths (3rd ed) using this method. This problem is concerned with studying a **Double Finite Square Well**. \n",
    "\n",
    "**ACTION:** Let's start by importing our values and defining our double finite square well potential.\n",
    "\n",
    "**Going negative to positive:** a is the left wall of the first well, b is the right wall, c is the left wall of the second well, and d is the right wall:"
   ]
  },
  {
   "cell_type": "code",
   "execution_count": 1,
   "metadata": {
    "ExecuteTime": {
     "end_time": "2023-11-29T23:13:25.497337500Z",
     "start_time": "2023-11-29T23:13:25.479952800Z"
    },
    "pycharm": {
     "name": "#%%\n"
    }
   },
   "outputs": [],
   "source": [
    "from pylab import *\n",
    "import scipy.linalg as spla\n",
    "import matplotlib.pyplot as plt\n",
    "import numpy as np"
   ]
  },
  {
   "cell_type": "code",
   "execution_count": 2,
   "outputs": [],
   "source": [
    "def V(x):\n",
    "    global a, b, c, d, V0\n",
    "    if a <= x <= b: return V0\n",
    "    if c <= x <= d:\n",
    "        return V0\n",
    "    else:\n",
    "        return 0\n",
    "\n",
    "\n",
    "V_vec = np.vectorize(V)"
   ],
   "metadata": {
    "collapsed": false,
    "pycharm": {
     "name": "#%%\n"
    }
   }
  },
  {
   "cell_type": "markdown",
   "metadata": {
    "pycharm": {
     "name": "#%% md\n"
    }
   },
   "source": [
    "Note the definiton of a new function **V_vec** which we need to evaluate the potential on a vector of x-values."
   ]
  },
  {
   "cell_type": "markdown",
   "metadata": {
    "pycharm": {
     "name": "#%% md\n"
    }
   },
   "source": [
    "Next we define 4 points a,b,c,d which are the left and right walls of the first well and the left and right walls of the second well, respectively. Since we want to look for bound states we need to solve Schrödinger's equation on an interval larger than the extent of the wells. We set the interval to be $-W,W$ with $W=\\mathrm{Max}(|a|,|b|,|c|,|d|)$. We also define $V_0$, the depth of the two wells, and the number of discretization steps."
   ]
  },
  {
   "cell_type": "code",
   "execution_count": 26,
   "metadata": {
    "ExecuteTime": {
     "end_time": "2023-11-30T00:14:20.299754800Z",
     "start_time": "2023-11-30T00:14:20.287497300Z"
    },
    "pycharm": {
     "name": "#%%\n"
    }
   },
   "outputs": [],
   "source": [
    "a = -1.5  # left wall first well\n",
    "b = -0.5  # right wall first well\n",
    "c = 0.5  # left wall second well\n",
    "d = 2.5  # right wall second well\n",
    "V0 = -5  # Depth of wells\n",
    "W = 3 * max(abs(a), abs(b), abs(c), abs(d))  # Width of region to look for solutions\n",
    "steps = 4000  # Number of discretization steps\n",
    "xvec = np.linspace(-W, W, steps, dtype=np.dtype('f8'))  # discretized x-points\n",
    "h = xvec[1] - xvec[0]  # spacing between discrete x-points"
   ]
  },
  {
   "cell_type": "markdown",
   "metadata": {
    "pycharm": {
     "name": "#%% md\n"
    }
   },
   "source": [
    "It is now very simple to write the matrix that describes the Hamiltonian. We start by evaluating the potential in all the discrete points. The second derivative is -2 on the diagonal and 1 just above and below the diagonal. This can very efficiently be written as shown below, which allows us to define the final Hamiltonian."
   ]
  },
  {
   "cell_type": "code",
   "execution_count": 27,
   "metadata": {
    "ExecuteTime": {
     "end_time": "2023-11-30T00:14:22.411859Z",
     "start_time": "2023-11-30T00:14:22.090958400Z"
    },
    "pycharm": {
     "name": "#%%\n"
    }
   },
   "outputs": [],
   "source": [
    "Pot_vec = V_vec(xvec)    #Evaluate potential in discrete x-points\n",
    "Laplacian=(-2.0*np.diag(np.ones(steps))+np.diag(np.ones(steps-1),1)   +np.diag(np.ones(steps-1),-1))/(double)(h*h)   #discrete second derivative written as matrix\n",
    "Hamiltonian= -0.5*Laplacian+np.diag(Pot_vec) #The Hamiltonian"
   ]
  },
  {
   "cell_type": "markdown",
   "metadata": {
    "pycharm": {
     "name": "#%% md\n"
    }
   },
   "source": [
    "Python has access to very efficient routines for finding eigenvalues and eigenvectors in the package **scipy.linalg** which is imported as **spla**.  The complete diagonalization can be done in a single command. Since most of the eigenvalues are positive, and therefore correspond to scattering states which we cannot treat with this method, we only list the first 10 and focus on the bound states with $E<0$."
   ]
  },
  {
   "cell_type": "code",
   "execution_count": 28,
   "metadata": {
    "ExecuteTime": {
     "end_time": "2023-11-30T00:14:29.096343300Z",
     "start_time": "2023-11-30T00:14:23.882309800Z"
    },
    "pycharm": {
     "name": "#%%\n"
    }
   },
   "outputs": [
    {
     "name": "stdout",
     "output_type": "stream",
     "text": [
      " -4.2988530\n",
      " -3.2517426\n",
      " -2.3069038\n",
      "  0.0097965\n",
      "  0.1274386\n",
      "  0.2582535\n",
      "  0.4694996\n",
      "  0.7637405\n",
      "  1.0101837\n",
      "  1.4464004\n"
     ]
    }
   ],
   "source": [
    "Eigs,Vecs=spla.eigh(Hamiltonian)\n",
    "for E in Eigs[0:10]:\n",
    "        print( '%11.7f' % E)"
   ]
  },
  {
   "cell_type": "markdown",
   "metadata": {
    "pycharm": {
     "name": "#%% md\n"
    }
   },
   "source": [
    "As usual we can plot the first few eigenstates."
   ]
  },
  {
   "cell_type": "code",
   "execution_count": 31,
   "metadata": {
    "ExecuteTime": {
     "end_time": "2023-11-30T01:48:21.454022400Z",
     "start_time": "2023-11-30T01:48:21.342798300Z"
    },
    "pycharm": {
     "name": "#%%\n"
    }
   },
   "outputs": [
    {
     "name": "stdout",
     "output_type": "stream",
     "text": [
      "E = -4.299\n",
      "Maxima at x = 1.498\n",
      "Minima at x = -7.500\n",
      "E = -3.252\n",
      "Maxima at x = -1.000\n",
      "Minima at x = 2.001\n"
     ]
    },
    {
     "data": {
      "text/plain": "<Figure size 432x288 with 1 Axes>",
      "image/png": "[encoded data removed]"
     },
     "metadata": {
      "needs_background": "light"
     },
     "output_type": "display_data"
    }
   ],
   "source": [
    "for i in range(2):\n",
    "    psi = Vecs[:,i]\n",
    "    norm = h*np.sum(np.square(psi))\n",
    "    psi = psi/sqrt(norm)\n",
    "    plt.plot(xvec, psi, label=\"E = %.3f\"%Eigs[i])\n",
    "# print the maxima\n",
    "    print(\"E = %.3f\"%Eigs[i])\n",
    "    print(\"Maxima at x = %.3f\"%xvec[np.argmax(psi)])\n",
    "    print(\"Minima at x = %.3f\"%xvec[np.argmin(psi)])\n",
    "\n",
    "plt.xlabel(\"x\")\n",
    "plt.ylabel(\"$\\psi(x)$\")\n",
    "plt.legend()\n",
    "plt.show()"
   ]
  },
  {
   "cell_type": "code",
   "execution_count": 32,
   "outputs": [
    {
     "data": {
      "text/plain": "<Figure size 432x288 with 1 Axes>",
      "image/png": "[encoded data removed]"
     },
     "metadata": {
      "needs_background": "light"
     },
     "output_type": "display_data"
    }
   ],
   "source": [
    "# now plot it only on the interval -0.5 to 0.5\n",
    "for i in range(2):\n",
    "        psi = Vecs[:,i]\n",
    "        norm = h*np.sum(np.square(psi))\n",
    "        psi = psi/sqrt(norm)\n",
    "        plt.plot(xvec, psi, label=\"E = %.3f\"%Eigs[i])\n",
    "plt.xlabel(\"x\")\n",
    "plt.ylabel(\"$\\psi(x)$\")\n",
    "plt.xlim(-0.5,0.5)\n",
    "plt.legend()\n",
    "plt.show()"
   ],
   "metadata": {
    "collapsed": false,
    "pycharm": {
     "name": "#%%\n"
    }
   }
  },
  {
   "cell_type": "markdown",
   "metadata": {
    "pycharm": {
     "name": "#%% md\n"
    }
   },
   "source": [
    "# Question 1"
   ]
  },
  {
   "cell_type": "markdown",
   "metadata": {
    "pycharm": {
     "name": "#%% md\n"
    }
   },
   "source": [
    "First set the separation between the wells equal to $0$ by setting $a=-1$, $b=c=0$ and $d=1$ with $V_0=-10$. Do the values you observe for the first 2 eigenvalues correspond to what you obtained studying the finite well?"
   ]
  },
  {
   "cell_type": "markdown",
   "metadata": {
    "pycharm": {
     "name": "#%% md\n"
    }
   },
   "source": [
    "# Question 2"
   ]
  },
  {
   "cell_type": "markdown",
   "metadata": {
    "pycharm": {
     "name": "#%% md\n"
    }
   },
   "source": [
    "Next consider the intermediate case where the width of the two wells is comparable to their separation. Set $a=-1.5$, $b=-0.5$, $c=0.5$ and $d=1.5$ with $V_0=-10$. What is the functional form of the wavefunction in the interval $-0.5$ to $0.5$ for the ground state and the first excited state?"
   ]
  },
  {
   "cell_type": "markdown",
   "metadata": {
    "pycharm": {
     "name": "#%% md\n"
    }
   },
   "source": [
    "# Question 3"
   ]
  },
  {
   "cell_type": "markdown",
   "metadata": {
    "pycharm": {
     "name": "#%% md\n"
    }
   },
   "source": [
    "Next let us analyze the case where there is a significant distance between the two wells by setting $a=-3$, $b=-2$, $c=2$ and $d=3$ with $V_0=-10$. What do you observe when you plot the first 2 wave-functions? Explain."
   ]
  },
  {
   "cell_type": "markdown",
   "metadata": {
    "pycharm": {
     "name": "#%% md\n"
    }
   },
   "source": [
    "# Question 4"
   ]
  },
  {
   "cell_type": "markdown",
   "metadata": {
    "pycharm": {
     "name": "#%% md\n"
    }
   },
   "source": [
    "Now let's try something new! Modify the potential so that the two wells have different widths. Choose $a=-1.5$, $b=-0.5$, $c=0.5$ and $d=2.5$ but this time with $V_0=-5$. Where is the wave-function mostly likely to be located for the ground state and the first excited state?\n",
    "Explain."
   ]
  },
  {
   "cell_type": "code",
   "execution_count": 6,
   "metadata": {
    "pycharm": {
     "name": "#%%\n"
    }
   },
   "outputs": [],
   "source": []
  }
 ],
 "metadata": {
  "kernelspec": {
   "display_name": "Python 3 (ipykernel)",
   "language": "python",
   "name": "python3"
  },
  "language_info": {
   "codemirror_mode": {
    "name": "ipython",
    "version": 3
   },
   "file_extension": ".py",
   "mimetype": "text/x-python",
   "name": "python",
   "nbconvert_exporter": "python",
   "pygments_lexer": "ipython3",
   "version": "3.11.4"
  }
 },
 "nbformat": 4,
 "nbformat_minor": 4
}
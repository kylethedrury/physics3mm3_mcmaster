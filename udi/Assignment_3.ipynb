{
 "cells": [
  {
   "cell_type": "markdown",
   "metadata": {
    "pycharm": {
     "name": "#%% md\n"
    }
   },
   "source": [
    "    # Solving the Harmonic Oscillator using the Shooting Method\n",
    "### Erik S. Sorensen, Physics & Astronomy, McMaster University,  October 2, 2019\n",
    "#### Last Edit: Pat Clancy - November 10, 2023"
   ]
  },
  {
   "cell_type": "markdown",
   "metadata": {
    "pycharm": {
     "name": "#%% md\n"
    }
   },
   "source": [
    "In this notebook we will be solving the **harmonic oscillator** using the shooting method. We shall be looking for solutions to the **stationary** Schr&ouml;dinger equation. We shall again exploit the crucial fact that the potential is *symmetric*. However, since the potential is finite for all $x$ we expect there to be significant leakage outside the classically allowed region. To deal with this we will have to use the same approach as we did for the Finite Well.  As usual, we shall take $\\hbar=m=1$. Let's begin by importing the things we need and defining the potential. Fill in the expression for the potential below:"
   ]
  },
  {
   "cell_type": "code",
   "execution_count": 16,
   "metadata": {
    "ExecuteTime": {
     "end_time": "2023-11-29T18:49:06.279185200Z",
     "start_time": "2023-11-29T18:49:05.735388900Z"
    },
    "pycharm": {
     "name": "#%%\n"
    }
   },
   "outputs": [],
   "source": [
    "from pylab import *\n",
    "from scipy.integrate import odeint\n",
    "from scipy.optimize import brentq\n",
    "import matplotlib.pyplot as plt\n",
    "import numpy as np\n",
    " \n",
    "def V(x):\n",
    "    global omega \n",
    "    return 1/2 * (x**2) * (omega**2)  # because m = 1"
   ]
  },
  {
   "cell_type": "markdown",
   "metadata": {
    "pycharm": {
     "name": "#%% md\n"
    }
   },
   "source": [
    "The method we shall be using requires a function that returns an array with 2 values D1 and D2 that are the first and second derivatives at that value of x: $\\psi'(x)$, $\\psi''(x)$. As input it takes another array which is $\\psi(x)$ and $\\psi'(x)$. You may be wondering why we need to do that. This comes about quite naturally if you write a second order differential equation as 2 **first** order coupled differential equations. This is precisely the same thing we did for the Finite and Infinite Well. The function assumes a value of $E$ is defined elsewhere and it looks as follows:"
   ]
  },
  {
   "cell_type": "code",
   "execution_count": 17,
   "metadata": {
    "ExecuteTime": {
     "end_time": "2023-11-29T20:31:10.682352300Z",
     "start_time": "2023-11-29T20:31:10.666267500Z"
    },
    "pycharm": {
     "name": "#%%\n"
    }
   },
   "outputs": [],
   "source": [
    "def D1D2(psi, x):\n",
    "    D1 = psi[1]\n",
    "    D2 = 2.0*(V(x) - E)*psi[0]\n",
    "    return array([D1, D2])"
   ]
  },
  {
   "cell_type": "markdown",
   "metadata": {
    "pycharm": {
     "name": "#%% md\n"
    }
   },
   "source": [
    "We use the same method for integrating as we did for the Finite Well. That is, we need a function that can integrate $\\psi(x)$ and $\\psi'(x)$ as 2 first order equations given some initial guess at a left-most point $x_{left}$. The routine will integrate from the left to the right-most end point $x_{right}$.  Python has utilities for doing this and the one we shall be using is called odeint from a module called scipy. We set it up so that when given a value of $E$ the function returns a single value, $\\psi(x_{right})$, where $x_{right}$ is the right-most end point of the integration. Later we shall specify what $x_{right}$ is. The python way of getting the right-most value of an [N,2] array is psi[-1,0], where the negative value means counting from the end. As mentioned, psi[:,0] contains the values of $\\psi(x)$ and psi[:,1] contains the values of $\\psi'(x)$.\n",
    "\n",
    "This is identical to what we did for the Finite Well, and we will employ a similar normalization here."
   ]
  },
  {
   "cell_type": "code",
   "execution_count": 39,
   "metadata": {
    "ExecuteTime": {
     "end_time": "2023-11-29T22:08:02.172673500Z",
     "start_time": "2023-11-29T22:08:02.156140Z"
    },
    "pycharm": {
     "name": "#%%\n"
    }
   },
   "outputs": [],
   "source": [
    "def Wave_function(energy):\n",
    "    global psi\n",
    "    global E\n",
    "    E = energy                #We need this so as to pass it to DD\n",
    "    psi = odeint(D1D2, psi0, x)\n",
    "    psi = psi/sqrt(h*2.*np.sum(np.square(psi[:,0])))\n",
    "    return psi[-1,0]"
   ]
  },
  {
   "cell_type": "markdown",
   "metadata": {
    "pycharm": {
     "name": "#%% md\n"
    }
   },
   "source": [
    "### The shooting method"
   ]
  },
  {
   "cell_type": "markdown",
   "metadata": {
    "pycharm": {
     "name": "#%% md\n"
    }
   },
   "source": [
    "As before, we will solve this problem using the shooting method. Initially we focus on odd solutions where $\\psi(x=0)=0$. For convenience we integrate from $x=-b=-15$ up to $x=0$. If we consider high lying states and/or a very small $\\omega$ then we might have to change this. Here we shall be concerned with $\\omega=1,2$ and energies below $E_{max}=70$ for which $x=-b=-15$ is sufficient.\n"
   ]
  },
  {
   "cell_type": "code",
   "execution_count": 40,
   "metadata": {
    "ExecuteTime": {
     "end_time": "2023-11-29T22:08:09.067100100Z",
     "start_time": "2023-11-29T22:08:04.619710500Z"
    },
    "pycharm": {
     "name": "#%%\n"
    }
   },
   "outputs": [],
   "source": [
    "N = 10000                   # number of discrete points on the x-axis\n",
    "omega = 2                   # set omega\n",
    "b = 15                     # Set the starting point outside the well for integrating\n",
    "h = b/(N-1)                 # Set the spacing between points on the x-axis\n",
    "E = 0                       # initialize the global variable E\n",
    "psi = np.zeros([N,2])       # Wave function values and its derivative (psi and psi')\n",
    "x = linspace(-b, 0, N)      # the points on the x-axis between left wall of the well and x=0\n",
    "Emax = 70.0 \n",
    "Ebottom = 0.0                # let us only look for solutions between Ebottom and Emax\n",
    "en = linspace(Ebottom, Emax, 1000) # A number of discrete energies where we will calculate psi(x=0)\n",
    "psi_b = []                  # vector of wave function at x = 0 for all of the energies in en\n",
    "for e1 in en:\n",
    "    psi0 = array([0,0.000001])\n",
    "    psi_b.append(Wave_function(e1))     # Determine psi(x=0) for every e1 in en"
   ]
  },
  {
   "cell_type": "code",
   "execution_count": 41,
   "metadata": {
    "ExecuteTime": {
     "end_time": "2023-11-29T22:08:09.174523400Z",
     "start_time": "2023-11-29T22:08:09.075179500Z"
    },
    "pycharm": {
     "name": "#%%\n"
    }
   },
   "outputs": [
    {
     "data": {
      "text/plain": "<Figure size 432x288 with 1 Axes>",
      "image/png": "[encoded data removed]"
     },
     "metadata": {},
     "output_type": "display_data"
    }
   ],
   "source": [
    "plt.plot(en, psi_b, 'r-')\n",
    "plt.xlabel(r'$E$',size=20)\n",
    "plt.ylabel(r'$\\psi(x=0)$',size=20)\n",
    "plt.grid(True)\n",
    "plt.ylim(-4,4)\n",
    "plt.show()"
   ]
  },
  {
   "cell_type": "markdown",
   "metadata": {
    "pycharm": {
     "name": "#%% md\n"
    }
   },
   "source": [
    "### Finding precise solutions"
   ]
  },
  {
   "cell_type": "markdown",
   "metadata": {
    "pycharm": {
     "name": "#%% md\n"
    }
   },
   "source": [
    "It is a bit hard to read off the exact values of the zeroes on the figure above, so we are going to use the python routine brentq to find them more precisely. The routine locates two subsequent values in the array psi_b where there is a sign change and then uses extrapolation techniques to find more precise values for the value of E that gives us $\\psi(x=0)=0$. This is unchanged from what we did for the Infinite and Finite Well."
   ]
  },
  {
   "cell_type": "code",
   "execution_count": 42,
   "metadata": {
    "ExecuteTime": {
     "end_time": "2023-11-29T22:08:13.380185500Z",
     "start_time": "2023-11-29T22:08:13.364767400Z"
    },
    "pycharm": {
     "name": "#%%\n"
    }
   },
   "outputs": [],
   "source": [
    "def find_all_zeroes(x,y):\n",
    "    all_zeroes = []\n",
    "    s = sign(y)\n",
    "    for i in range(len(y)-1):\n",
    "        if s[i]+s[i+1] == 0:\n",
    "            zero = brentq(Wave_function, x[i], x[i+1])\n",
    "            all_zeroes.append(zero)\n",
    "    return all_zeroes"
   ]
  },
  {
   "cell_type": "markdown",
   "metadata": {
    "pycharm": {
     "name": "#%% md\n"
    }
   },
   "source": [
    "We can now determine all the zeroes in the range up to $E_{max}$ and print them out"
   ]
  },
  {
   "cell_type": "code",
   "execution_count": 79,
   "metadata": {
    "ExecuteTime": {
     "end_time": "2023-11-29T22:08:15.935363100Z",
     "start_time": "2023-11-29T22:08:14.898942600Z"
    },
    "pycharm": {
     "name": "#%%\n"
    }
   },
   "outputs": [
    {
     "name": "stdout",
     "output_type": "stream",
     "text": [
      "bound state energies for omega = 2 are [3.0, 7.0, 11.0, 15.0, 19.0, 23.0, 27.0, 31.0, 35.0, 39.0, 43.0, 47.0, 51.0, 55.0, 59.0, 63.0, 67.0]\n"
     ]
    }
   ],
   "source": [
    "E_zeroes = find_all_zeroes(en, psi_b)   # now find the precise energies where psi(x=0) = 0\n",
    "E_zeroes = [round(x, 2) for x in E_zeroes]\n",
    "print('bound state energies for omega = {} are {}'.format(omega, E_zeroes))"
   ]
  },
  {
   "cell_type": "markdown",
   "metadata": {
    "pycharm": {
     "name": "#%% md\n"
    }
   },
   "source": [
    "### Question 1"
   ]
  },
  {
   "cell_type": "markdown",
   "metadata": {
    "pycharm": {
     "name": "#%% md\n"
    }
   },
   "source": [
    "We start by setting $\\omega=1$. Do the energies you determine correspond to what you expect for odd solutions? What about for $\\omega=2$? Verify the even solutions as well, you only need a few examples here. Recall that you can get even solutions by changing the array value which *Wave_function* returns."
   ]
  },
  {
   "cell_type": "markdown",
   "metadata": {
    "pycharm": {
     "name": "#%% md\n"
    }
   },
   "source": [
    "We use the same method to plot the wavefunctions as we did for the Finite Well. However, here we will focus on the 17th odd state with $\\omega=2$.\n",
    "\n",
    "With the precise energy values determined we can look at the wavefunctions. Since in this case we want the wavefunction not only in the well but also outside of it, we set the x-axis to be from -b to 0. You might ask why we don't set it to go from -b to b. The problem with that is that it won't really work when $x>a$ because routines like *odeint* struggle to work if we choose a direction where the solution we're looking for is **exponentially decreasing**. At some point *odeint* will instead start to pick up the solutions to Schr&ouml;dinger's equation that are **exponentially increasing**. Mathematically that is a solution to the differential equation as well but it is unphysical so we throw it away. Unfortunately, the computer does not know about that. On the other hand this is pretty easy to fix since we know that the solutions are either even or odd. So, we can simply copy the solution we have for $x<0$, reverse it, and use it for $x>0$. That explains the extra lines with *psil*, *psir* and *psilr*. Reversing the elements in an array is easy to do by using *psil[N-1,0,-1]*, where we skip the last element of *psil* since that corresponds to $x=0$. Also note that when we look at the odd solutions we have to put in a minus sign when we copy over *psil* to form *psir*. The final result is *psilr* which goes all the way from -b to b."
   ]
  },
  {
   "cell_type": "code",
   "execution_count": 97,
   "metadata": {
    "ExecuteTime": {
     "end_time": "2023-11-29T22:14:02.214224600Z",
     "start_time": "2023-11-29T22:14:02.086696500Z"
    },
    "pycharm": {
     "name": "#%%\n"
    }
   },
   "outputs": [
    {
     "data": {
      "text/plain": "<Figure size 432x288 with 1 Axes>",
      "image/png": "[encoded data removed]"
     },
     "metadata": {},
     "output_type": "display_data"
    }
   ],
   "source": [
    "def count_zero_crossings(data):\n",
    "    zero_crossings = 0\n",
    "    for i in range(len(data)-1):\n",
    "        if data[i] * data[i+1] < 0:\n",
    "            zero_crossings += 1\n",
    "    return zero_crossings\n",
    "\n",
    "x = linspace(-b, 0, N)\n",
    "xall =linspace(-b,b,2*N-1)\n",
    "h=b/(N-1)\n",
    "for E in E_zeroes[16:19]:\n",
    "    Wave_function(E)\n",
    "    psil = psi[:,0]\n",
    "    psir = -psil[N:0:-1]\n",
    "    psilr = np.append(psil,psir)\n",
    "    psilr=psilr/sqrt(h*np.sum(np.square(psilr)))\n",
    "    # plt.plot(xall, psilr, label=\"E = \" + str(E))\n",
    "    #check how many times each wavefunction crosses zero\n",
    "    zero_crossings = count_zero_crossings(psilr)\n",
    "    plt.plot(xall, psilr, label=\"E = \" + str(E) + f\" (Nodes: {zero_crossings + 2})\")\n",
    "\n",
    "\n",
    "plt.xlabel(r'$x$',size=20)\n",
    "plt.ylabel(r'$\\psi(x)$',size=20)\n",
    "plt.legend()\n",
    "plt.xlim(-10,10)\n",
    "plt.grid(True)\n",
    "plt.show()"
   ]
  },
  {
   "cell_type": "markdown",
   "metadata": {
    "pycharm": {
     "name": "#%% md\n"
    }
   },
   "source": [
    "### Question 2"
   ]
  },
  {
   "cell_type": "markdown",
   "metadata": {
    "pycharm": {
     "name": "#%% md\n"
    }
   },
   "source": [
    "Consider the 17th odd state with $\\omega=2$. How many nodes (zeroes) does the wavefunction have? Explain your finding."
   ]
  },
  {
   "cell_type": "markdown",
   "metadata": {
    "pycharm": {
     "name": "#%% md\n"
    }
   },
   "source": [
    "### Question 3"
   ]
  },
  {
   "cell_type": "markdown",
   "metadata": {
    "pycharm": {
     "name": "#%% md\n"
    }
   },
   "source": [
    "Now let us study the 17th odd state with $\\omega=2$ in a bit more detail. As before, we might expect significant 'leaking' of the wavefunction outside the well. However, in the case of the SHO it is not as clear what 'outside the well' means. We determine this by using the classical turning point where $E=V(x)$. Find the classical turning point for the 17th odd state with $\\omega=2$. What is the probability of finding the particle outside the well?\n",
    "\n",
    "(Hint: the 17th Energy value can be found in the array E_zeroes. Also, remember that python starts indexing from 0 not 1)"
   ]
  },
  {
   "cell_type": "code",
   "execution_count": 100,
   "outputs": [
    {
     "name": "stdout",
     "output_type": "stream",
     "text": [
      "Classical turning point: 5.787918451395113\n",
      "Probability outside well: 0.041309286870913224\n"
     ]
    }
   ],
   "source": [
    "xturn = np.sqrt(2 * 67) / omega\n",
    "print('Classical turning point: {}'.format(xturn))\n",
    "\n",
    "psi_out= np.where(abs(xall) > xturn, psilr, 0)\n",
    "\n",
    "sum_out = np.sum(psi_out ** 2) * h\n",
    "probability_out = sum_out\n",
    "\n",
    "print('Probability outside well: {}'.format(probability_out))\n"
   ],
   "metadata": {
    "collapsed": false,
    "pycharm": {
     "name": "#%%\n"
    }
   }
  }
 ],
 "metadata": {
  "kernelspec": {
   "display_name": "Python 3 (ipykernel)",
   "language": "python",
   "name": "python3"
  },
  "language_info": {
   "codemirror_mode": {
    "name": "ipython",
    "version": 3
   },
   "file_extension": ".py",
   "mimetype": "text/x-python",
   "name": "python",
   "nbconvert_exporter": "python",
   "pygments_lexer": "ipython3",
   "version": "3.11.4"
  }
 },
 "nbformat": 4,
 "nbformat_minor": 4
}
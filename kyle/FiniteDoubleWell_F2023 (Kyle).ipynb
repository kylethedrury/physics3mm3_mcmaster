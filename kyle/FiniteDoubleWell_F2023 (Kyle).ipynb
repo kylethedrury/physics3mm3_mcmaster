{
 "cells": [
  {
   "cell_type": "markdown",
   "metadata": {},
   "source": [
    "# The Finite Double Square Well\n",
    "### Erik S. S&oslash;rensen, Physics & Astronomy, McMaster University,  October 26, 2019\n",
    "#### Last Edit: Pat Clancy - November 10, 2023"
   ]
  },
  {
   "cell_type": "markdown",
   "metadata": {},
   "source": [
    "In this exercise we will solve the Schr&ouml;dinger equation using the method described in problem 2.61 in Griffiths (3rd ed). As usual, we will use a discrete grid with spacing $h$. The second derivative can then be approximated as $(-2\\psi_j+\\psi_{j+1}+\\psi_{j-1})/h^2$. If we discretize $\\psi$ on the interval $-W,W$ in $N$ points then it is easy to see that Schr&ouml;dinger's equation becomes an eigenvalue equation for an $N\\times N$ matrix as explained in problem 2.61. We shall then be looking at problem 2.47 in Griffiths (3rd ed) using this method. This problem is concerned with studying a **Double Finite Square Well**. \n",
    "\n",
    "**ACTION:** Let's start by importing our values and defining our double finite square well potential.\n",
    "\n",
    "**Going negative to positive:** a is the left wall of the first well, b is the right wall, c is the left wall of the second well, and d is the right wall:"
   ]
  },
  {
   "cell_type": "code",
   "execution_count": 74,
   "metadata": {
    "ExecuteTime": {
     "end_time": "2023-11-29T23:13:25.497337500Z",
     "start_time": "2023-11-29T23:13:25.479952800Z"
    }
   },
   "outputs": [],
   "source": [
    "from pylab import *\n",
    "import scipy.linalg as spla\n",
    "import matplotlib.pyplot as plt\n",
    "import numpy as np\n",
    " \n",
    "def V(x):\n",
    "    global a,b,c,d, V0\n",
    "    if a < x < b: return 0\n",
    "    if c < x < d: return 0\n",
    "    else:\n",
    "        return -V0\n",
    "    \n",
    "V_vec = np.vectorize(V)"
   ]
  },
  {
   "cell_type": "markdown",
   "metadata": {},
   "source": [
    "Note the definiton of a new function **V_vec** which we need to evaluate the potential on a vector of x-values."
   ]
  },
  {
   "cell_type": "markdown",
   "metadata": {},
   "source": [
    "Next we define 4 points a,b,c,d which are the left and right walls of the first well and the left and right walls of the second well, respectively. Since we want to look for bound states we need to solve Schrödinger's equation on an interval larger than the extent of the wells. We set the interval to be $-W,W$ with $W=\\mathrm{Max}(|a|,|b|,|c|,|d|)$. We also define $V_0$, the depth of the two wells, and the number of discretization steps."
   ]
  },
  {
   "cell_type": "code",
   "execution_count": 119,
   "metadata": {
    "ExecuteTime": {
     "end_time": "2023-11-30T00:14:20.299754800Z",
     "start_time": "2023-11-30T00:14:20.287497300Z"
    }
   },
   "outputs": [],
   "source": [
    "a=-1.5      #left wall first well\n",
    "b=-0.5      #right wall first well\n",
    "c=0.5       #left wall second well\n",
    "d=2.5       #right wall second well\n",
    "V0=5     #Depth of wells\n",
    "W = 3*max(abs(a),abs(b),abs(c),abs(d))   #Width of region to look for solutions\n",
    "steps = 4000   #Number of discretization steps\n",
    "xvec=np.linspace(-W,W,steps,dtype=np.dtype('f8'))  #discretized x-points\n",
    "h=xvec[1]-xvec[0]  #spacing between discrete x-points"
   ]
  },
  {
   "cell_type": "markdown",
   "metadata": {},
   "source": [
    "It is now very simple to write the matrix that describes the Hamiltonian. We start by evaluating the potential in all the discrete points. The second derivative is -2 on the diagonal and 1 just above and below the diagonal. This can very efficiently be written as shown below, which allows us to define the final Hamiltonian."
   ]
  },
  {
   "cell_type": "code",
   "execution_count": 120,
   "metadata": {
    "ExecuteTime": {
     "end_time": "2023-11-30T00:14:22.411859Z",
     "start_time": "2023-11-30T00:14:22.090958400Z"
    }
   },
   "outputs": [],
   "source": [
    "Pot_vec = V_vec(xvec)    #Evaluate potential in discrete x-points\n",
    "Laplacian=(-2.0*np.diag(np.ones(steps))+np.diag(np.ones(steps-1),1)\\\n",
    "   +np.diag(np.ones(steps-1),-1))/(double)(h*h)   #discrete second derivative written as matrix\n",
    "Hamiltonian= -0.5*Laplacian+np.diag(Pot_vec) #The Hamiltonian"
   ]
  },
  {
   "cell_type": "markdown",
   "metadata": {},
   "source": [
    "Python has access to very efficient routines for finding eigenvalues and eigenvectors in the package **scipy.linalg** which is imported as **spla**.  The complete diagonalization can be done in a single command. Since most of the eigenvalues are positive, and therefore correspond to scattering states which we cannot treat with this method, we only list the first 10 and focus on the bound states with $E<0$."
   ]
  },
  {
   "cell_type": "code",
   "execution_count": 121,
   "metadata": {
    "ExecuteTime": {
     "end_time": "2023-11-30T00:14:29.096343300Z",
     "start_time": "2023-11-30T00:14:23.882309800Z"
    }
   },
   "outputs": [
    {
     "name": "stdout",
     "output_type": "stream",
     "text": [
      " -4.8765190\n",
      " -4.8258842\n",
      " -4.5067902\n",
      " -4.3050951\n",
      " -3.8936574\n",
      " -3.4431909\n",
      " -3.2493818\n",
      " -3.0287001\n",
      " -2.2535115\n",
      " -1.9509730\n"
     ]
    }
   ],
   "source": [
    "Eigs,Vecs=spla.eigh(Hamiltonian)\n",
    "for E in Eigs[0:10]:\n",
    "        print( '%11.7f' % E)"
   ]
  },
  {
   "cell_type": "markdown",
   "metadata": {},
   "source": [
    "As usual we can plot the first few eigenstates."
   ]
  },
  {
   "cell_type": "code",
   "execution_count": 133,
   "metadata": {
    "ExecuteTime": {
     "end_time": "2023-11-30T01:48:21.454022400Z",
     "start_time": "2023-11-30T01:48:21.342798300Z"
    }
   },
   "outputs": [
    {
     "data": {
      "text/plain": "<Figure size 640x480 with 1 Axes>",
      "image/png": "[encoded data removed]"
     },
     "metadata": {},
     "output_type": "display_data"
    },
    {
     "name": "stdout",
     "output_type": "stream",
     "text": [
      "3.5052513128282072\n"
     ]
    }
   ],
   "source": [
    "for i in [3]:\n",
    "        psi = Vecs[:,i]\n",
    "        norm = h*np.sum(np.square(psi))\n",
    "        psi = psi/sqrt(norm)\n",
    "        plt.plot(xvec, psi, label=\"E = %.3f\"%Eigs[i])\n",
    "#plt.xlim(-3.5,3.5)\n",
    "plt.legend()\n",
    "plt.grid(True)\n",
    "#plt.xlim(-0.5, 0.5)\n",
    "plt.show()\n",
    "\n",
    "max_index = np.argmax(psi)\n",
    "x_at_max_y = xvec[max_index]\n",
    "print(x_at_max_y)"
   ]
  },
  {
   "cell_type": "markdown",
   "metadata": {},
   "source": [
    "# Question 1"
   ]
  },
  {
   "cell_type": "markdown",
   "metadata": {},
   "source": [
    "First set the separation between the wells equal to $0$ by setting $a=-1$, $b=c=0$ and $d=1$ with $V_0=-10$. Do the values you observe for the first 2 eigenvalues correspond to what you obtained studying the finite well?"
   ]
  },
  {
   "cell_type": "markdown",
   "metadata": {},
   "source": [
    "# Question 2"
   ]
  },
  {
   "cell_type": "markdown",
   "metadata": {},
   "source": [
    "Next consider the intermediate case where the width of the two wells is comparable to their separation. Set $a=-1.5$, $b=-0.5$, $c=0.5$ and $d=1.5$ with $V_0=-10$. What is the functional form of the wavefunction in the interval $-0.5$ to $0.5$ for the ground state and the first excited state?"
   ]
  },
  {
   "cell_type": "markdown",
   "metadata": {},
   "source": [
    "# Question 3"
   ]
  },
  {
   "cell_type": "markdown",
   "metadata": {},
   "source": [
    "Next let us analyze the case where there is a significant distance between the two wells by setting $a=-3$, $b=-2$, $c=2$ and $d=3$ with $V_0=-10$. What do you observe when you plot the first 2 wave-functions? Explain."
   ]
  },
  {
   "cell_type": "markdown",
   "metadata": {},
   "source": [
    "# Question 4"
   ]
  },
  {
   "cell_type": "markdown",
   "metadata": {},
   "source": [
    "Now let's try something new! Modify the potential so that the two wells have different widths. Choose $a=-1.5$, $b=-0.5$, $c=0.5$ and $d=2.5$ but this time with $V_0=-5$. Where is the wave-function mostly likely to be located for the ground state and the first excited state?\n",
    "Explain."
   ]
  },
  {
   "cell_type": "code",
   "execution_count": null,
   "metadata": {},
   "outputs": [],
   "source": []
  }
 ],
 "metadata": {
  "kernelspec": {
   "display_name": "Python 3 (ipykernel)",
   "language": "python",
   "name": "python3"
  },
  "language_info": {
   "codemirror_mode": {
    "name": "ipython",
    "version": 3
   },
   "file_extension": ".py",
   "mimetype": "text/x-python",
   "name": "python",
   "nbconvert_exporter": "python",
   "pygments_lexer": "ipython3",
   "version": "3.11.4"
  }
 },
 "nbformat": 4,
 "nbformat_minor": 4
}

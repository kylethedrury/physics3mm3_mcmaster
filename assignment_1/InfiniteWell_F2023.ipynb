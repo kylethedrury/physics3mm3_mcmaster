{
 "cells": [
  {
   "cell_type": "markdown",
   "metadata": {
    "pycharm": {
     "name": "#%% md\n"
    }
   },
   "source": [
    "# Solving the Infinite Symmetric Well using the Shooting Method\n",
    "### Erik S. Sorensen, Physics & Astronomy, McMaster University, 21 September 2019\n",
    "#### Last Edit: Pat Clancy - 25 September 2023"
   ]
  },
  {
   "cell_type": "markdown",
   "metadata": {
    "pycharm": {
     "name": "#%% md\n"
    }
   },
   "source": [
    "### Introduction"
   ]
  },
  {
   "cell_type": "raw",
   "source": [
    "In this notebook we will be solving the infinite symmetric well using what is called the shooting method. The potential does not need to be a square well to use this method, but it is important that it is *symmetric*. To make the potential symmetric we will define $V(x)$ from $-a$ to $a$ rather than from $0$ to $a$ (as used for the infinite square well in Section 2.2 of Griffiths). Furthermore, we shall use units where $\\hbar^2/m=1$."
   ],
   "metadata": {
    "collapsed": false,
    "pycharm": {
     "name": "#%% raw\n"
    }
   }
  },
  {
   "cell_type": "markdown",
   "metadata": {
    "pycharm": {
     "name": "#%% md\n"
    }
   },
   "source": [
    "Let's begin by importing some things we'll need: "
   ]
  },
  {
   "cell_type": "code",
   "execution_count": 1,
   "metadata": {
    "pycharm": {
     "name": "#%%\n"
    }
   },
   "outputs": [],
   "source": [
    "from pylab import *\n",
    "from scipy.integrate import odeint #A differential equation solver\n",
    "from scipy.optimize import brentq #A root finding algorithm\n",
    "import matplotlib.pyplot as plt\n",
    "import numpy as np #An immensely useful library for manipulating arrays and lists (i.e matrices and vectors)"
   ]
  },
  {
   "cell_type": "raw",
   "source": [
    "The infinite square well is defined by the potential, which is $V(x)=0$ if $-a<x<a$ and $V(x)=\\infty$ otherwise. Unfortunately for the computer, $\\infty$ is not a real number and it has no concept of something infinite. Fortunately for us, we can get good results by just using some big number instead of actually using $\\infty$. Take a second to consider what constitutes a number that is \"big enough\" to be a substitute for $\\infty$ in this context.\n",
    "\n",
    "__ACTION__: Using the template below write a function\n",
    "__V(x)__ which takes a variable __x__ and returns the potential at that coordinate."
   ],
   "metadata": {
    "collapsed": false,
    "pycharm": {
     "name": "#%% raw\n"
    }
   }
  },
  {
   "cell_type": "code",
   "execution_count": 2,
   "metadata": {
    "pycharm": {
     "name": "#%%\n"
    }
   },
   "outputs": [],
   "source": [
    "def V(x):\n",
    "    global a  # Using global means we can set 'a' later in our code, and V(x) will be aware of it.\n",
    "    # Define the potential\n",
    "    if -a < x < a:\n",
    "        return 0.0  # Inside the well, potential is 0\n",
    "    else:\n",
    "        return 1e9  # A big number as a substitute for infinity"
   ]
  },
  {
   "cell_type": "markdown",
   "metadata": {
    "pycharm": {
     "name": "#%% md\n"
    }
   },
   "source": [
    "Once we have a suitable potential function, what else do we need the computer to know in order to solve for $E_n$'s and their associated $\\psi_n$'s? Well it definitely needs to know about the Schrodinger Equation, which really just describes the relationship between some function $\\psi(x)$ and its derivatives. Specifically, it says (in our units) that $\\psi''(x)=2[V(x)-E]\\psi(x)$.\n",
    "\n",
    "We want to use scipy's odeint differential equation solver to solve for $\\psi(x)$. But odeint solves differential equations of the form $\\frac{df}{dx}=g(x)$ (For more details, check out the documentation of odeint at https://docs.scipy.org/doc/scipy/reference/generated/scipy.integrate.odeint.html).\n",
    "\n",
    "This means we want to rewrite the Schrodinger Equation as 2 first order coupled differential equations, which concern the first and second order derivatives of $\\psi$."
   ]
  },
  {
   "cell_type": "raw",
   "source": [
    "Computationally then, we require a function that returns an array with 2 values, D1 and D2, that are the first and second derivatives at that value of $x$: $\\psi'(x)$ and $\\psi''(x)$. As input it takes another array which is $\\psi(x)$ and $\\psi'(x)$. \n",
    "\n",
    "__ACTION__: Use the the Schrodinger equation and the fact that the value of $\\psi(x)$ is given by array element psi$[0]$ to fill the code in for __D2__:"
   ],
   "metadata": {
    "collapsed": false,
    "pycharm": {
     "name": "#%% raw\n"
    }
   }
  },
  {
   "cell_type": "code",
   "execution_count": 3,
   "metadata": {
    "pycharm": {
     "name": "#%%\n"
    }
   },
   "outputs": [],
   "source": [
    "def D1D2(psi, x):\n",
    "    D1 = psi[1]  # First derivative\n",
    "    V_x = V(x)   # Calculate the potential at x using your V(x) function\n",
    "    E = 0.0      # You need to define the energy E for your specific problem\n",
    "\n",
    "    # Schrödinger equation: psi''(x) = 2 * (V(x) - E) * psi(x)\n",
    "    D2 = 2 * (V_x - E) * psi[0]  # Second derivative\n",
    "\n",
    "    return np.array([D1, D2])"
   ]
  },
  {
   "cell_type": "markdown",
   "metadata": {
    "pycharm": {
     "name": "#%% md\n"
    }
   },
   "source": [
    "Now we will use odeint to integrate $\\psi''(x)$ and $\\psi'(x)$ as 2 first order equations given some initial guess at the left-most point $x_{left}$. The routine will integrate from the left to the right-most end point $x_{right}$.\n",
    "\n",
    "We set up the function so that given a value of $E$, it will return a single value, $\\psi(x_{right})$, where $x_{right}$ is the right-most end point of the integration. Later we shall specify what $x_{right}$ is. The python way of getting the right-most value of an [N,2] array is psi[-1,0], where negative values means counting from the end (i.e psi[-1,0]=psi[N-1,0]). psi[:,0] are the values of $\\psi(x)$ and psi[:,1] are the values of $\\psi'(x)$, so visually:\n",
    "$\\begin{bmatrix}\n",
    "\\psi(x_0)\\text{  ,  }\\psi'(x_0) \\\\\n",
    "\\psi(x_1)\\text{  ,  }\\psi'(x_1) \\\\\n",
    ".\\\\\n",
    ".\\\\\n",
    ".\\\\\n",
    "\\end{bmatrix}\\\\\n",
    "$\n",
    "Where psi[r,c] means accessing row r and column c of the above array, and both r and c start from 0."
   ]
  },
  {
   "cell_type": "code",
   "execution_count": 4,
   "metadata": {
    "pycharm": {
     "name": "#%%\n"
    }
   },
   "outputs": [],
   "source": [
    "def Wave_function(energy):\n",
    "    global psi\n",
    "    global E\n",
    "    E = energy                #We need this so as to pass it to DD\n",
    "    psi = odeint(D1D2, psi0, x)\n",
    "    return psi[-1,0]"
   ]
  },
  {
   "cell_type": "markdown",
   "metadata": {
    "pycharm": {
     "name": "#%% md\n"
    }
   },
   "source": [
    "So now we have a way of telling the computer about the Schrodinger Equation and the infinite square well potential, and a way of solving psi for a given $E$. But how will we decide whether the given $E$ is an eigenvalue of our Hamiltonian? We use the shooting method."
   ]
  },
  {
   "cell_type": "markdown",
   "metadata": {
    "pycharm": {
     "name": "#%% md\n"
    }
   },
   "source": [
    "### The shooting method"
   ]
  },
  {
   "cell_type": "markdown",
   "metadata": {
    "pycharm": {
     "name": "#%% md\n"
    }
   },
   "source": [
    "The shooting method is fairly straightforward. First we guess an energy $E$. Then we integrate from the left wall of the well, $x=-a$, where we know that $\\psi(x=-a)=0$ and $\\psi'(x=-a)\\neq 0$. We integrate up to $x=0$ (the mid-point of the well) and if the integrated function $\\psi(x=0)=0$ then we guessed correctly, and the energy $E$ is a solution (an eigenvalue). This **only** works because the well is symmetric around zero, which means that the solutions, $\\psi(x)$, will be either even or odd functions. If we require $\\psi(x=0)=0$ we obtain the odd solutions. If instead we want the even solutions, we should require $\\psi'(x=0)=0$.\n",
    "\n",
    "The second fact that we need is that each subsequent solution will have **one more node**. This means that if we plot $\\psi(x=0)$ **as a function of** $E$ it will change sign every time we have an energy $E$ that is a solution. Let's see how that works: We set up the calculation by taking a number of discrete points on the x-axis and a number of discrete values of $E$ stored in en. For each value of $E$ in en we then integrate up to find $\\psi(x=0)$.\n"
   ]
  },
  {
   "cell_type": "code",
   "execution_count": 5,
   "metadata": {
    "pycharm": {
     "name": "#%%\n"
    }
   },
   "outputs": [],
   "source": [
    "N = 10000                   # number of discrete points on the x-axis\n",
    "a = 3.5                       # Set the width of the well\n",
    "E = 0                       # initialize the global variable E\n",
    "psi = np.zeros([N,2])       # Wave function values and its derivative (psi and psi')\n",
    "psi0 = array([0,1])         # Wave function initial states\n",
    "x = linspace(-a, 0, N)      # the points on the x-axis between left wall of the well and x=0\n",
    "Emax = 100.0\n",
    "Ebottom = 0.0                # let us only look for solutions between Ebottom =0 and Emax=100\n",
    "en = linspace(Ebottom, Emax, 1000) # A number of discrete energies where we will calculate psi(x=0)\n",
    "psi_b = []                  # vector of wave function at x = 0 for all of the energies in en\n",
    "for e1 in en:\n",
    "    psi_b.append(Wave_function(e1))     # Determine psi(x=0) for every e1 in en"
   ]
  },
  {
   "cell_type": "code",
   "execution_count": 6,
   "metadata": {
    "pycharm": {
     "name": "#%%\n"
    }
   },
   "outputs": [
    {
     "data": {
      "text/plain": "<Figure size 432x288 with 1 Axes>",
      "image/png": "[encoded data removed]"
     },
     "metadata": {
      "needs_background": "light"
     },
     "output_type": "display_data"
    }
   ],
   "source": [
    "plt.plot(en, psi_b, 'r-')\n",
    "plt.xlabel(r'$E$',size=20)\n",
    "plt.ylabel(r'$\\psi(x=0)$',size=20)\n",
    "plt.grid(True)\n",
    "plt.savefig('psi_x0.pdf')\n",
    "plt.show()"
   ]
  },
  {
   "cell_type": "markdown",
   "metadata": {
    "pycharm": {
     "name": "#%% md\n"
    }
   },
   "source": [
    "### Question 1"
   ]
  },
  {
   "cell_type": "markdown",
   "metadata": {
    "pycharm": {
     "name": "#%% md\n"
    }
   },
   "source": [
    "Describe what happens to the plot above if you double the width of the well. \n",
    "\n",
    "__Note__: you can return the width of the well to its original value once you're done"
   ]
  },
  {
   "cell_type": "markdown",
   "metadata": {
    "pycharm": {
     "name": "#%% md\n"
    }
   },
   "source": [
    "### Finding precise solutions"
   ]
  },
  {
   "cell_type": "markdown",
   "metadata": {
    "pycharm": {
     "name": "#%% md\n"
    }
   },
   "source": [
    "It is a bit hard to read off the exact values of the zeroes on the figure above so we are going to use a python routine called brentq that will find them more precisely. The routine locates two subsequent values in the array psi_b where there is a sign change and then uses extrapolation techniques to find more precise values for the value of E that gives us $\\psi(x=0)=0$. \n",
    "\n",
    "__ACTION__: Using the fact that sign(y) returns +1 for any positive value and -1 for any negative value, what code could you write for the if statement below in order to pick out the zeroes?"
   ]
  },
  {
   "cell_type": "code",
   "execution_count": 7,
   "metadata": {
    "pycharm": {
     "name": "#%%\n"
    }
   },
   "outputs": [],
   "source": [
    "def find_all_zeroes(x,y): #Returns list of values of x for which y(x)=0\n",
    "    all_zeroes = []\n",
    "    s = sign(y)\n",
    "    for i in range(len(y)-1):\n",
    "        if ...:\n",
    "            zero = brentq(Wave_function, x[i], x[i+1])\n",
    "            all_zeroes.append(zero)\n",
    "    return all_zeroes"
   ]
  },
  {
   "cell_type": "markdown",
   "metadata": {
    "pycharm": {
     "name": "#%% md\n"
    }
   },
   "source": [
    "We can now determine all of the zeroes in the range up to $E_{max}$ and print them out"
   ]
  },
  {
   "cell_type": "code",
   "execution_count": 8,
   "metadata": {
    "scrolled": true,
    "pycharm": {
     "name": "#%%\n"
    }
   },
   "outputs": [
    {
     "ename": "ValueError",
     "evalue": "f(a) and f(b) must have different signs",
     "output_type": "error",
     "traceback": [
      "\u001B[0;31m---------------------------------------------------------------------------\u001B[0m",
      "\u001B[0;31mValueError\u001B[0m                                Traceback (most recent call last)",
      "\u001B[0;32m<ipython-input-8-79146e5789fe>\u001B[0m in \u001B[0;36m<module>\u001B[0;34m\u001B[0m\n\u001B[0;32m----> 1\u001B[0;31m \u001B[0mE_zeroes\u001B[0m \u001B[0;34m=\u001B[0m \u001B[0mfind_all_zeroes\u001B[0m\u001B[0;34m(\u001B[0m\u001B[0men\u001B[0m\u001B[0;34m,\u001B[0m \u001B[0mpsi_b\u001B[0m\u001B[0;34m)\u001B[0m   \u001B[0;31m# now find the precise energies where psi(x=0) = 0\u001B[0m\u001B[0;34m\u001B[0m\u001B[0;34m\u001B[0m\u001B[0m\n\u001B[0m\u001B[1;32m      2\u001B[0m \u001B[0mprint\u001B[0m\u001B[0;34m(\u001B[0m \u001B[0;34m\"Energies for the bound states are: \"\u001B[0m\u001B[0;34m)\u001B[0m\u001B[0;34m\u001B[0m\u001B[0;34m\u001B[0m\u001B[0m\n\u001B[1;32m      3\u001B[0m \u001B[0;32mfor\u001B[0m \u001B[0mE\u001B[0m \u001B[0;32min\u001B[0m \u001B[0mE_zeroes\u001B[0m\u001B[0;34m:\u001B[0m\u001B[0;34m\u001B[0m\u001B[0;34m\u001B[0m\u001B[0m\n\u001B[1;32m      4\u001B[0m         \u001B[0mprint\u001B[0m\u001B[0;34m(\u001B[0m \u001B[0;34m'%11.7f'\u001B[0m \u001B[0;34m%\u001B[0m \u001B[0mE\u001B[0m\u001B[0;34m)\u001B[0m\u001B[0;34m\u001B[0m\u001B[0;34m\u001B[0m\u001B[0m\n",
      "\u001B[0;32m<ipython-input-7-19d9a1fe7896>\u001B[0m in \u001B[0;36mfind_all_zeroes\u001B[0;34m(x, y)\u001B[0m\n\u001B[1;32m      4\u001B[0m     \u001B[0;32mfor\u001B[0m \u001B[0mi\u001B[0m \u001B[0;32min\u001B[0m \u001B[0mrange\u001B[0m\u001B[0;34m(\u001B[0m\u001B[0mlen\u001B[0m\u001B[0;34m(\u001B[0m\u001B[0my\u001B[0m\u001B[0;34m)\u001B[0m\u001B[0;34m-\u001B[0m\u001B[0;36m1\u001B[0m\u001B[0;34m)\u001B[0m\u001B[0;34m:\u001B[0m\u001B[0;34m\u001B[0m\u001B[0;34m\u001B[0m\u001B[0m\n\u001B[1;32m      5\u001B[0m         \u001B[0;32mif\u001B[0m \u001B[0;34m...\u001B[0m\u001B[0;34m:\u001B[0m\u001B[0;34m\u001B[0m\u001B[0;34m\u001B[0m\u001B[0m\n\u001B[0;32m----> 6\u001B[0;31m             \u001B[0mzero\u001B[0m \u001B[0;34m=\u001B[0m \u001B[0mbrentq\u001B[0m\u001B[0;34m(\u001B[0m\u001B[0mWave_function\u001B[0m\u001B[0;34m,\u001B[0m \u001B[0mx\u001B[0m\u001B[0;34m[\u001B[0m\u001B[0mi\u001B[0m\u001B[0;34m]\u001B[0m\u001B[0;34m,\u001B[0m \u001B[0mx\u001B[0m\u001B[0;34m[\u001B[0m\u001B[0mi\u001B[0m\u001B[0;34m+\u001B[0m\u001B[0;36m1\u001B[0m\u001B[0;34m]\u001B[0m\u001B[0;34m)\u001B[0m\u001B[0;34m\u001B[0m\u001B[0;34m\u001B[0m\u001B[0m\n\u001B[0m\u001B[1;32m      7\u001B[0m             \u001B[0mall_zeroes\u001B[0m\u001B[0;34m.\u001B[0m\u001B[0mappend\u001B[0m\u001B[0;34m(\u001B[0m\u001B[0mzero\u001B[0m\u001B[0;34m)\u001B[0m\u001B[0;34m\u001B[0m\u001B[0;34m\u001B[0m\u001B[0m\n\u001B[1;32m      8\u001B[0m     \u001B[0;32mreturn\u001B[0m \u001B[0mall_zeroes\u001B[0m\u001B[0;34m\u001B[0m\u001B[0;34m\u001B[0m\u001B[0m\n",
      "\u001B[0;32m/Library/Frameworks/Python.framework/Versions/3.8/lib/python3.8/site-packages/scipy/optimize/zeros.py\u001B[0m in \u001B[0;36mbrentq\u001B[0;34m(f, a, b, args, xtol, rtol, maxiter, full_output, disp)\u001B[0m\n\u001B[1;32m    778\u001B[0m     \u001B[0;32mif\u001B[0m \u001B[0mrtol\u001B[0m \u001B[0;34m<\u001B[0m \u001B[0m_rtol\u001B[0m\u001B[0;34m:\u001B[0m\u001B[0;34m\u001B[0m\u001B[0;34m\u001B[0m\u001B[0m\n\u001B[1;32m    779\u001B[0m         \u001B[0;32mraise\u001B[0m \u001B[0mValueError\u001B[0m\u001B[0;34m(\u001B[0m\u001B[0;34m\"rtol too small (%g < %g)\"\u001B[0m \u001B[0;34m%\u001B[0m \u001B[0;34m(\u001B[0m\u001B[0mrtol\u001B[0m\u001B[0;34m,\u001B[0m \u001B[0m_rtol\u001B[0m\u001B[0;34m)\u001B[0m\u001B[0;34m)\u001B[0m\u001B[0;34m\u001B[0m\u001B[0;34m\u001B[0m\u001B[0m\n\u001B[0;32m--> 780\u001B[0;31m     \u001B[0mr\u001B[0m \u001B[0;34m=\u001B[0m \u001B[0m_zeros\u001B[0m\u001B[0;34m.\u001B[0m\u001B[0m_brentq\u001B[0m\u001B[0;34m(\u001B[0m\u001B[0mf\u001B[0m\u001B[0;34m,\u001B[0m \u001B[0ma\u001B[0m\u001B[0;34m,\u001B[0m \u001B[0mb\u001B[0m\u001B[0;34m,\u001B[0m \u001B[0mxtol\u001B[0m\u001B[0;34m,\u001B[0m \u001B[0mrtol\u001B[0m\u001B[0;34m,\u001B[0m \u001B[0mmaxiter\u001B[0m\u001B[0;34m,\u001B[0m \u001B[0margs\u001B[0m\u001B[0;34m,\u001B[0m \u001B[0mfull_output\u001B[0m\u001B[0;34m,\u001B[0m \u001B[0mdisp\u001B[0m\u001B[0;34m)\u001B[0m\u001B[0;34m\u001B[0m\u001B[0;34m\u001B[0m\u001B[0m\n\u001B[0m\u001B[1;32m    781\u001B[0m     \u001B[0;32mreturn\u001B[0m \u001B[0mresults_c\u001B[0m\u001B[0;34m(\u001B[0m\u001B[0mfull_output\u001B[0m\u001B[0;34m,\u001B[0m \u001B[0mr\u001B[0m\u001B[0;34m)\u001B[0m\u001B[0;34m\u001B[0m\u001B[0;34m\u001B[0m\u001B[0m\n\u001B[1;32m    782\u001B[0m \u001B[0;34m\u001B[0m\u001B[0m\n",
      "\u001B[0;31mValueError\u001B[0m: f(a) and f(b) must have different signs"
     ]
    }
   ],
   "source": [
    "E_zeroes = find_all_zeroes(en, psi_b)   # now find the precise energies where psi(x=0) = 0 \n",
    "print( \"Energies for the bound states are: \")\n",
    "for E in E_zeroes:\n",
    "        print( '%11.7f' % E)"
   ]
  },
  {
   "cell_type": "markdown",
   "metadata": {
    "pycharm": {
     "name": "#%% md\n"
    }
   },
   "source": [
    "### Question 2"
   ]
  },
  {
   "cell_type": "markdown",
   "metadata": {
    "pycharm": {
     "name": "#%% md\n"
    }
   },
   "source": [
    "Verify explicitly that the numerical values you find in this exercise correspond to the exact solution from Section 2.2 in Griffiths. It may be helpful to make a table comparing the two sets of energies."
   ]
  },
  {
   "cell_type": "markdown",
   "metadata": {
    "pycharm": {
     "name": "#%% md\n"
    }
   },
   "source": [
    "With the precise energy values determined we can look at the wavefunctions. Since in this case we want the wave-function throughout the whole well, we will need to re-define the x-axis to extend from -a to a. We should also normalize the wave-functions."
   ]
  },
  {
   "cell_type": "code",
   "execution_count": null,
   "metadata": {
    "pycharm": {
     "name": "#%%\n"
    }
   },
   "outputs": [],
   "source": [
    "x = linspace(-a, a, N)\n",
    "h=2*a/(N-1)\n",
    "for E in E_zeroes[0:4]:\n",
    "        Wave_function(E)\n",
    "        psi[:,0]=psi[:,0]/sqrt(h*np.sum(np.square(psi[:,0])))\n",
    "        plt.plot(x, psi[:,0], label=\"E = %.2f\"%E)\n",
    "        \n",
    "plt.xlabel(r'$x$',size=20)\n",
    "plt.ylabel(r'$\\psi(x)$',size=20)\n",
    "plt.legend()\n",
    "plt.grid(True)\n",
    "plt.show()\n"
   ]
  },
  {
   "cell_type": "markdown",
   "metadata": {
    "pycharm": {
     "name": "#%% md\n"
    }
   },
   "source": [
    "### Question 3"
   ]
  },
  {
   "cell_type": "markdown",
   "metadata": {
    "pycharm": {
     "name": "#%% md\n"
    }
   },
   "source": [
    "We find the odd solutions here since Wave_function returns $\\psi(0)$. If we instead want to look for solutions where $\\psi'(0)=0$ all we have to do is to return psi[-1,1] from Wave_function. Try this and compare the energies to what you find from Griffiths."
   ]
  },
  {
   "cell_type": "markdown",
   "metadata": {
    "pycharm": {
     "name": "#%% md\n"
    }
   },
   "source": [
    "### Question 4"
   ]
  },
  {
   "cell_type": "markdown",
   "metadata": {
    "pycharm": {
     "name": "#%% md\n"
    }
   },
   "source": [
    "The A13 bionic chip released by apple is manufactured by TSMC using their 7 nanometer process. Assume that we can model the properties of this chip using an infinite potential well. \n",
    "\n",
    "If the **total** width of the infinite well is 7 nanometers, convert the energies that you have found for both odd and even states into units of electron Volts (eV). Assume that $m$ is the mass of an electron."
   ]
  },
  {
   "cell_type": "markdown",
   "metadata": {
    "pycharm": {
     "name": "#%% md\n"
    }
   },
   "source": [
    "### Question 5"
   ]
  },
  {
   "cell_type": "markdown",
   "metadata": {
    "pycharm": {
     "name": "#%% md\n"
    }
   },
   "source": [
    "Now let's have some fun. While we only solved the infinite square well in class, we can easily use the shooting method to find numerical solutions to many other potentials where we can't determine the analytic solution. However, we still have to stick to symmetric potentials with a hard wall. \n",
    "\n",
    "__ACTION__: Modify your potential so that at the center of the well (between -a/2 and a/2) it takes on a value of -2. You will also need to modify the energies that you're looking for by changing Ebottom. \n",
    "\n",
    "(a) What are the first 2 energies for even wave-functions? \n",
    "\n",
    "(b) Plot the square of the first 2 even wave-functions that you find. Where is the particle most likely to be found in each of the states? Explain."
   ]
  },
  {
   "cell_type": "code",
   "execution_count": null,
   "metadata": {
    "pycharm": {
     "name": "#%%\n"
    }
   },
   "outputs": [],
   "source": []
  }
 ],
 "metadata": {
  "kernelspec": {
   "display_name": "Python 3 (ipykernel)",
   "language": "python",
   "name": "python3"
  },
  "language_info": {
   "codemirror_mode": {
    "name": "ipython",
    "version": 3
   },
   "file_extension": ".py",
   "mimetype": "text/x-python",
   "name": "python",
   "nbconvert_exporter": "python",
   "pygments_lexer": "ipython3",
   "version": "3.11.4"
  }
 },
 "nbformat": 4,
 "nbformat_minor": 4
}